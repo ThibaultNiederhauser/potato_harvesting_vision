{
  "nbformat": 4,
  "nbformat_minor": 0,
  "metadata": {
    "colab": {
      "name": "TrainObjectDetector.ipynb",
      "provenance": [],
      "collapsed_sections": []
    },
    "kernelspec": {
      "name": "python3",
      "display_name": "Python 3"
    },
    "accelerator": "GPU"
  },
  "cells": [
    {
      "cell_type": "markdown",
      "metadata": {
        "id": "4QpLAf7c45Ya",
        "colab_type": "text"
      },
      "source": [
        "# Inspired from tutorial at https://medium.com/analytics-vidhya/training-an-object-detection-model-with-tensorflow-api-using-google-colab-4f9a688d5e8b"
      ]
    },
    {
      "cell_type": "markdown",
      "metadata": {
        "id": "QiykBasE4tDP",
        "colab_type": "text"
      },
      "source": [
        "Degrade tf version to be able to use object_detection\n"
      ]
    },
    {
      "cell_type": "code",
      "metadata": {
        "id": "8JacgE834h9y",
        "colab_type": "code",
        "colab": {}
      },
      "source": [
        "%tensorflow_version 1.x"
      ],
      "execution_count": null,
      "outputs": []
    },
    {
      "cell_type": "markdown",
      "metadata": {
        "id": "Zm1u7NEa5Ert",
        "colab_type": "text"
      },
      "source": [
        "Check that GPU is enabled\n"
      ]
    },
    {
      "cell_type": "code",
      "metadata": {
        "id": "cuip48Am41E2",
        "colab_type": "code",
        "colab": {}
      },
      "source": [
        "import tensorflow as tf\n",
        "device_name = tf.test.gpu_device_name()\n",
        "if device_name != '/device:GPU:0':\n",
        "   raise SystemError('GPU device not found')\n",
        "print('Found GPU at: {}'.format(device_name))\n",
        "print(tf.__version__)"
      ],
      "execution_count": null,
      "outputs": []
    },
    {
      "cell_type": "markdown",
      "metadata": {
        "id": "vjGY7VnR6f0l",
        "colab_type": "text"
      },
      "source": [
        "Move to training repository (check that google drive is installed) "
      ]
    },
    {
      "cell_type": "code",
      "metadata": {
        "id": "UCXk0r-v6Kfe",
        "colab_type": "code",
        "colab": {}
      },
      "source": [
        "%cd '/content/drive/My Drive/training_demo/'"
      ],
      "execution_count": null,
      "outputs": []
    },
    {
      "cell_type": "markdown",
      "metadata": {
        "id": "X1-5W3pv6o8J",
        "colab_type": "text"
      },
      "source": [
        "\n",
        "Clone the tf models repository\n",
        "\n",
        "\n",
        "\n"
      ]
    },
    {
      "cell_type": "code",
      "metadata": {
        "id": "tgOrvrKu6wXu",
        "colab_type": "code",
        "colab": {}
      },
      "source": [
        "!git clone https://github.com/tensorflow/models.git\n"
      ],
      "execution_count": null,
      "outputs": []
    },
    {
      "cell_type": "markdown",
      "metadata": {
        "id": "3QwfiB3Q68De",
        "colab_type": "text"
      },
      "source": [
        "Install packages and dependencies"
      ]
    },
    {
      "cell_type": "code",
      "metadata": {
        "id": "qcHhGLw467CE",
        "colab_type": "code",
        "colab": {}
      },
      "source": [
        "!apt-get install protobuf-compiler python-pil python-lxml python-tk\n",
        "!pip install Cython"
      ],
      "execution_count": null,
      "outputs": []
    },
    {
      "cell_type": "markdown",
      "metadata": {
        "id": "af3Gz-xI7pGE",
        "colab_type": "text"
      },
      "source": [
        "Compile the model definition"
      ]
    },
    {
      "cell_type": "code",
      "metadata": {
        "id": "mSh4wg-07B_m",
        "colab_type": "code",
        "colab": {}
      },
      "source": [
        "%cd /content/drive/My Drive/training_demo/models/research/\n",
        "!protoc object_detection/protos/*.proto --python_out=."
      ],
      "execution_count": null,
      "outputs": []
    },
    {
      "cell_type": "markdown",
      "metadata": {
        "id": "S8WIHRyV79Db",
        "colab_type": "text"
      },
      "source": [
        "Set the environment path"
      ]
    },
    {
      "cell_type": "code",
      "metadata": {
        "id": "tSU5kBKt7mwa",
        "colab_type": "code",
        "colab": {}
      },
      "source": [
        "import os\n",
        "os.environ['PYTHONPATH'] += ':/content/drive/My Drive/training_demo/models/research/:/content/drive/My Drive/training_demo/models/research/slim'"
      ],
      "execution_count": null,
      "outputs": []
    },
    {
      "cell_type": "markdown",
      "metadata": {
        "id": "XXMTGkpl8Rrh",
        "colab_type": "text"
      },
      "source": [
        "Setup object_detection"
      ]
    },
    {
      "cell_type": "code",
      "metadata": {
        "id": "Fke_L8c18LOQ",
        "colab_type": "code",
        "colab": {}
      },
      "source": [
        "!python setup.py build\n",
        "!python setup.py install"
      ],
      "execution_count": null,
      "outputs": []
    },
    {
      "cell_type": "markdown",
      "metadata": {
        "id": "FGs92-8K8e3E",
        "colab_type": "text"
      },
      "source": [
        "Compute remaining time for the session"
      ]
    },
    {
      "cell_type": "code",
      "metadata": {
        "id": "NxAGaITT8hu5",
        "colab_type": "code",
        "colab": {}
      },
      "source": [
        "import time, psutil\n",
        "Start = time.time()- psutil.boot_time()\n",
        "Left= 12*3600 - Start\n",
        "print('Time remaining for this session is: ', Left/3600)"
      ],
      "execution_count": null,
      "outputs": []
    },
    {
      "cell_type": "markdown",
      "metadata": {
        "id": "oFatbMxT8uFh",
        "colab_type": "text"
      },
      "source": [
        "Test installation"
      ]
    },
    {
      "cell_type": "code",
      "metadata": {
        "id": "g9X2RyLS8ow-",
        "colab_type": "code",
        "colab": {}
      },
      "source": [
        "%cd /content/drive/My Drive/training_demo/models/research/object_detection/builders/\n",
        "!python model_builder_test.py"
      ],
      "execution_count": null,
      "outputs": []
    },
    {
      "cell_type": "markdown",
      "metadata": {
        "id": "NR7jQqnZGFf3",
        "colab_type": "text"
      },
      "source": [
        "Partition data set into test and train (jpg+xml.files need to be in folder 'images')"
      ]
    },
    {
      "cell_type": "code",
      "metadata": {
        "id": "Duufpwbn9k3a",
        "colab_type": "code",
        "colab": {}
      },
      "source": [
        "%cd /content/drive/My Drive/training_demo/preprocessing\n",
        "\n",
        "#10 percent test data\n",
        "!python partition_dataset.py -x -i /content/drive/My\\ Drive/training_demo/images/igluna2 -r 0.1   "
      ],
      "execution_count": null,
      "outputs": []
    },
    {
      "cell_type": "markdown",
      "metadata": {
        "id": "MShMmz6QMTla",
        "colab_type": "text"
      },
      "source": [
        "Create csv-files "
      ]
    },
    {
      "cell_type": "code",
      "metadata": {
        "id": "o1TSB5kS_f0y",
        "colab_type": "code",
        "colab": {}
      },
      "source": [
        "%cd /content/drive/My Drive/training_demo/preprocessing\n",
        "!python xml_to_csv.py -i /content/drive/My\\ Drive/training_demo/images/igluna2/train -o /content/drive/My\\ Drive/training_demo/annotations/train_labels.csv\n",
        "!python xml_to_csv.py -i /content/drive/My\\ Drive/training_demo/images/igluna2/test -o /content/drive/My\\ Drive/training_demo/annotations/test_labels.csv\n"
      ],
      "execution_count": null,
      "outputs": []
    },
    {
      "cell_type": "markdown",
      "metadata": {
        "id": "_FctNu1pOENF",
        "colab_type": "text"
      },
      "source": [
        "Generate TF-records"
      ]
    },
    {
      "cell_type": "code",
      "metadata": {
        "id": "9cl9yReNOHQL",
        "colab_type": "code",
        "colab": {}
      },
      "source": [
        "%cd /content/drive/My Drive/training_demo/preprocessing\n",
        "\n",
        "#create train data:\n",
        "!python generate_tfrecord.py --label=potato --csv_input=/content/drive/My\\ Drive/training_demo/annotations/train_labels.csv --img_path=/content/drive/My\\ Drive/training_demo/images/igluna2/train --output_path=/content/drive/My\\ Drive/training_demo/annotations/train.record\n",
        "\n",
        "# Create test data:\n",
        "!python generate_tfrecord.py --label=potato --csv_input=/content/drive/My\\ Drive/training_demo/annotations/test_labels.csv --img_path=/content/drive/My\\ Drive/training_demo/images/igluna2/test --output_path=/content/drive/My\\ Drive/training_demo/annotations/test.record\n"
      ],
      "execution_count": null,
      "outputs": []
    },
    {
      "cell_type": "markdown",
      "metadata": {
        "id": "Uuo1qXDxRZVD",
        "colab_type": "text"
      },
      "source": [
        "Get pre-trained model"
      ]
    },
    {
      "cell_type": "code",
      "metadata": {
        "id": "bIspf2x3_tPL",
        "colab_type": "code",
        "colab": {}
      },
      "source": [
        "%cd /content/drive/My Drive/training_demo/pre-trained-models\n",
        "\n",
        "\n",
        "!wget http://download.tensorflow.org/models/object_detection/faster_rcnn_resnet101_coco_2018_01_28.tar.gz\n",
        "!tar -xvf faster_rcnn_resnet101_coco_2018_01_28.tar.gz"
      ],
      "execution_count": null,
      "outputs": []
    },
    {
      "cell_type": "markdown",
      "metadata": {
        "id": "CbGaN_6cRyb0",
        "colab_type": "text"
      },
      "source": [
        "Background tracking checkpoints (not necessary)"
      ]
    },
    {
      "cell_type": "code",
      "metadata": {
        "id": "vn24XtE-R0bD",
        "colab_type": "code",
        "colab": {}
      },
      "source": [
        "%cd /content/drive/My Drive/training_demo\n",
        "%load_ext tensorboard\n",
        "%tensorboard --logdir training_v2/"
      ],
      "execution_count": null,
      "outputs": []
    },
    {
      "cell_type": "markdown",
      "metadata": {
        "id": "UqndTg34nRcm",
        "colab_type": "text"
      },
      "source": [
        "ACTUAL TRAINING\n"
      ]
    },
    {
      "cell_type": "code",
      "metadata": {
        "id": "qHJphOyaXPFZ",
        "colab_type": "code",
        "colab": {}
      },
      "source": [
        "\n",
        "%cd /content/drive/My Drive/training_demo\n",
        "!python train.py --alsologtostderr --train_dir=training/ --pipeline_config_path=config_files/faster_rcnn_resnet101.config\n"
      ],
      "execution_count": null,
      "outputs": []
    },
    {
      "cell_type": "markdown",
      "metadata": {
        "id": "uuHEq4bpgrg7",
        "colab_type": "text"
      },
      "source": [
        "Export TRained Model"
      ]
    },
    {
      "cell_type": "code",
      "metadata": {
        "id": "Re3FkQrhYXPC",
        "colab_type": "code",
        "colab": {}
      },
      "source": [
        "%cd /content/drive/My Drive/training_demo\n",
        "\n",
        "#change checkpoint prefix\n",
        "!python models/research/object_detection/export_inference_graph.py --input_type image_tensor --pipeline_config_path config_files/ssd_mobilenet_v1_coco.config --trained_checkpoint_prefix training/model.ckpt-18577 --output_directory saved_trained_models/mobilenet_v1_2"
      ],
      "execution_count": null,
      "outputs": []
    },
    {
      "cell_type": "markdown",
      "metadata": {
        "id": "nRTvxYahY1AF",
        "colab_type": "text"
      },
      "source": [
        ""
      ]
    },
    {
      "cell_type": "markdown",
      "metadata": {
        "id": "donlXG2YY02v",
        "colab_type": "text"
      },
      "source": [
        ""
      ]
    },
    {
      "cell_type": "code",
      "metadata": {
        "id": "eHD5AIzQY0cz",
        "colab_type": "code",
        "colab": {}
      },
      "source": [
        ""
      ],
      "execution_count": null,
      "outputs": []
    },
    {
      "cell_type": "code",
      "metadata": {
        "id": "7igs5Z4EY0Wl",
        "colab_type": "code",
        "colab": {}
      },
      "source": [
        ""
      ],
      "execution_count": null,
      "outputs": []
    }
  ]
}